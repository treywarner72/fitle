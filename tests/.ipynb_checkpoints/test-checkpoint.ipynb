{
 "cells": [
  {
   "cell_type": "code",
   "execution_count": 1,
   "id": "b89a89d4",
   "metadata": {},
   "outputs": [],
   "source": [
    "import fitle as fl\n",
    "import numpy as np\n",
    "import time"
   ]
  },
  {
   "cell_type": "code",
   "execution_count": 2,
   "id": "268309a5",
   "metadata": {},
   "outputs": [],
   "source": [
    "model = fl.gaussian()"
   ]
  },
  {
   "cell_type": "code",
   "execution_count": 3,
   "id": "ef33ddc3-1402-4f6f-9bd7-d5f9b50b031c",
   "metadata": {},
   "outputs": [
    {
     "name": "stdout",
     "output_type": "stream",
     "text": [
      "Compiling model 1 / (sigma=1 * 2.5066282746310002) * (exp(-0.5 * ((INPUT - mu=0) / sigma=1) ** 2)) (Hash: -8176819527042747799)...\n"
     ]
    },
    {
     "data": {
      "text/plain": [
       "1 / (sigma=1 * 2.5066282746310002) * (exp(-0.5 * ((INPUT - mu=0) / sigma=1) ** 2))"
      ]
     },
     "execution_count": 3,
     "metadata": {},
     "output_type": "execute_result"
    }
   ],
   "source": [
    "model.compile()"
   ]
  },
  {
   "cell_type": "code",
   "execution_count": null,
   "id": "f31cd572-6acd-4450-8bac-403d773baf2a",
   "metadata": {},
   "outputs": [],
   "source": []
  }
 ],
 "metadata": {
  "kernelspec": {
   "display_name": "Python 3 (ipykernel)",
   "language": "python",
   "name": "python3"
  },
  "language_info": {
   "codemirror_mode": {
    "name": "ipython",
    "version": 3
   },
   "file_extension": ".py",
   "mimetype": "text/x-python",
   "name": "python",
   "nbconvert_exporter": "python",
   "pygments_lexer": "ipython3",
   "version": "3.13.7"
  }
 },
 "nbformat": 4,
 "nbformat_minor": 5
}
