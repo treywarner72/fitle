{
 "cells": [
  {
   "cell_type": "code",
   "execution_count": 1,
   "id": "e9ccdea5-32e6-4140-b9f1-ed2142ee67a9",
   "metadata": {},
   "outputs": [],
   "source": [
    "import numpy as np\n",
    "import fitle as fl"
   ]
  },
  {
   "cell_type": "code",
   "execution_count": 3,
   "id": "5dd9e9da-7a4f-41a8-ad26-5272cf26b561",
   "metadata": {},
   "outputs": [],
   "source": [
    "data = np.random.normal(1850, 10, 1000) # random data, mu=1850, sigma=10, 1000 entries"
   ]
  },
  {
   "cell_type": "code",
   "execution_count": 4,
   "id": "29aebc41-d138-4c63-a346-08ce2a281963",
   "metadata": {},
   "outputs": [],
   "source": [
    "# A Gaussian PDF model in X with fit parameters mu, sigma\n",
    "mu    = fl.Param('mu')(1800, 2000)(1870)   # name, (min,max), start\n",
    "sigma = fl.Param.positive('sigma')(5)  # >0 constraint, start=5\n",
    "\n",
    "model = fl.gaussian(mu, sigma)         # returns a Model\n",
    "\n",
    "cost = fl.Cost.NLL(data)               # factory\n",
    "loss = model | cost                    # pipe the model into the cost"
   ]
  },
  {
   "cell_type": "code",
   "execution_count": 7,
   "id": "8ad6809b-4281-454e-9718-083d9ad6ad94",
   "metadata": {},
   "outputs": [
    {
     "name": "stdout",
     "output_type": "stream",
     "text": [
      "Compiling model sum(-log(1 / (sigma=5 * 2.5066282746310002) * (exp(-0.5 * (((const_140261693346256()) - mu=1870) / sigma=5) ** 2)))) (Hash: -4733920699315401046)...\n",
      "Compiling model λ(sum(-(1 / (sigma=5 * 2.5066282746310002) * ((exp(-0.5 * (((const_140261693346256()) - mu=1870) / sigma=5) ** 2)) * (-0.5 * (2 * (((const_140261693346256()) - mu=1870) / sigma=5) * ((-(const_140261693346256()) - mu=1870) / sigma=5 ** 2)))) + (exp(-0.5 * (((const_140261693346256()) - mu=1870) / sigma=5) ** 2)) * ((-identity(2.5066282746310002)) / (sigma=5 * 2.5066282746310002) ** 2)) / (1 / (sigma=5 * 2.5066282746310002) * (exp(-0.5 * (((const_140261693346256()) - mu=1870) / sigma=5) ** 2)))), sum(-(1 / (sigma=5 * 2.5066282746310002) * ((exp(-0.5 * (((const_140261693346256()) - mu=1870) / sigma=5) ** 2)) * (-0.5 * (2 * (((const_140261693346256()) - mu=1870) / sigma=5) * (-1 * sigma=5 / sigma=5 ** 2)))) + (exp(-0.5 * (((const_140261693346256()) - mu=1870) / sigma=5) ** 2)) * ((identity(0)) / (sigma=5 * 2.5066282746310002) ** 2)) / (1 / (sigma=5 * 2.5066282746310002) * (exp(-0.5 * (((const_140261693346256()) - mu=1870) / sigma=5) ** 2))))) (Hash: 2821520496241106891)...\n",
      "<FitResult fval=3713.952, success=True>\n",
      "sigma: 9.925 ± 0.31\n",
      "mu: 1850 ± 0.44\n",
      "\n"
     ]
    }
   ],
   "source": [
    "# Fit with iminuit (uses Numba-compiled model and gradient by default)\n",
    "result = fl.fit(loss)       # -> FitResult\n",
    "print(result)"
   ]
  },
  {
   "cell_type": "code",
   "execution_count": 21,
   "id": "bdff98aa-08a8-4e5d-b7ae-5431cb44a933",
   "metadata": {},
   "outputs": [
    {
     "data": {
      "text/plain": [
       "array([0.04015888, 0.03930961, 0.03830504, 0.03694982])"
      ]
     },
     "execution_count": 21,
     "metadata": {},
     "output_type": "execute_result"
    }
   ],
   "source": [
    "# Evaluate the (frozen) best-fit prediction quickly\n",
    "result.predict([1850,1852,1853,1854])"
   ]
  }
 ],
 "metadata": {
  "kernelspec": {
   "display_name": "Python 3 (ipykernel)",
   "language": "python",
   "name": "python3"
  },
  "language_info": {
   "codemirror_mode": {
    "name": "ipython",
    "version": 3
   },
   "file_extension": ".py",
   "mimetype": "text/x-python",
   "name": "python",
   "nbconvert_exporter": "python",
   "pygments_lexer": "ipython3",
   "version": "3.13.7"
  }
 },
 "nbformat": 4,
 "nbformat_minor": 5
}
